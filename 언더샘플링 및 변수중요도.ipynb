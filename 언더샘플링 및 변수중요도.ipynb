{
  "nbformat": 4,
  "nbformat_minor": 0,
  "metadata": {
    "colab": {
      "provenance": [],
      "machine_shape": "hm"
    },
    "kernelspec": {
      "name": "python3",
      "display_name": "Python 3"
    },
    "language_info": {
      "name": "python"
    }
  },
  "cells": [
    {
      "cell_type": "markdown",
      "source": [
        "# 라이브러리 설치 및 불러오기"
      ],
      "metadata": {
        "id": "hwZip7t2TelO"
      }
    },
    {
      "cell_type": "code",
      "source": [
        "from google.colab import drive\n",
        "drive.mount('/content/drive')"
      ],
      "metadata": {
        "colab": {
          "base_uri": "https://localhost:8080/"
        },
        "id": "Tywz_Rf6S4u9",
        "outputId": "a37fa41f-cafc-429c-ed5c-8c6bd5b50979"
      },
      "execution_count": null,
      "outputs": [
        {
          "output_type": "stream",
          "name": "stdout",
          "text": [
            "Mounted at /content/drive\n"
          ]
        }
      ]
    },
    {
      "cell_type": "code",
      "source": [
        "# !pip install catboost"
      ],
      "metadata": {
        "id": "UwlDV-wqTJnu"
      },
      "execution_count": null,
      "outputs": []
    },
    {
      "cell_type": "code",
      "source": [
        "# !pip install optuna"
      ],
      "metadata": {
        "id": "Snt_GDj3TM21"
      },
      "execution_count": null,
      "outputs": []
    },
    {
      "cell_type": "code",
      "source": [
        "# !pip install xgboost"
      ],
      "metadata": {
        "id": "lWiB-W1jWSWU"
      },
      "execution_count": null,
      "outputs": []
    },
    {
      "cell_type": "code",
      "source": [
        "# !pip install lightgbm"
      ],
      "metadata": {
        "id": "Gcdnwi5EWUwx"
      },
      "execution_count": null,
      "outputs": []
    },
    {
      "cell_type": "code",
      "source": [
        "import pandas as pd\n",
        "import matplotlib.pyplot as plt\n",
        "import seaborn as sns\n",
        "import numpy as np\n",
        "import re\n",
        "from sklearn.preprocessing import LabelEncoder\n",
        "from sklearn.preprocessing import OneHotEncoder\n",
        "from sklearn.model_selection import cross_val_score\n",
        "from sklearn.model_selection import GridSearchCV\n",
        "from sklearn.model_selection import RandomizedSearchCV\n",
        "import warnings\n",
        "from sklearn.preprocessing import MinMaxScaler\n",
        "from sklearn.model_selection import KFold\n",
        "from sklearn.model_selection import StratifiedKFold\n",
        "from sklearn.model_selection import RepeatedKFold\n",
        "from sklearn.model_selection import RepeatedStratifiedKFold\n",
        "from sklearn.metrics import mean_squared_error\n",
        "from lightgbm import LGBMRegressor\n",
        "from lightgbm import LGBMClassifier\n",
        "from xgboost import XGBClassifier\n",
        "from catboost import CatBoostClassifier\n",
        "from sklearn.ensemble import RandomForestClassifier\n",
        "import optuna\n",
        "warnings.simplefilter(action='ignore', category=FutureWarning)\n",
        "from sklearn.ensemble import VotingClassifier\n",
        "from imblearn.under_sampling import RandomUnderSampler\n",
        "from imblearn.over_sampling import SMOTE\n",
        "from imblearn.combine import SMOTEENN\n",
        "from imblearn.under_sampling import *\n",
        "from imblearn.over_sampling import *\n",
        "from sklearn.model_selection import train_test_split\n",
        "from sklearn.discriminant_analysis import LinearDiscriminantAnalysis\n",
        "from sklearn.metrics import classification_report, accuracy_score, f1_score, recall_score, precision_score, confusion_matrix, ConfusionMatrixDisplay\n",
        "from sklearn.linear_model import LogisticRegression"
      ],
      "metadata": {
        "id": "_StfXGEy14M8"
      },
      "execution_count": null,
      "outputs": []
    },
    {
      "cell_type": "markdown",
      "source": [
        "# 데이터 로드 및 분할"
      ],
      "metadata": {
        "id": "gTNbHBpCTjpi"
      }
    },
    {
      "cell_type": "code",
      "source": [
        "# 최종 데이터: lending_club_clean_v3_2_N3.feather\n",
        "\n",
        "data = pd.read_feather('/////lending_club_clean_v3_2_N3.feather')"
      ],
      "metadata": {
        "id": "TgHD0wx7ShAT"
      },
      "execution_count": null,
      "outputs": []
    },
    {
      "cell_type": "code",
      "source": [
        "columns = [\n",
        "    'loan_amnt',\n",
        "    'funded_amnt',\n",
        "    'term',\n",
        "    'int_rate',\n",
        "    'installment',\n",
        "    'annual_inc',\n",
        "    'dti',\n",
        "    'delinq_2yrs',\n",
        "    'fico_range_high',\n",
        "    'open_acc',\n",
        "    'total_acc',\n",
        "    'inq_fi',\n",
        "    'total_cu_tl',\n",
        "    'mo_sin_old_il_acct',\n",
        "    'mo_sin_old_rev_tl_op',\n",
        "    'mort_acc',\n",
        "    'num_accts_ever_120_pd',\n",
        "    'num_bc_sats',\n",
        "    'num_bc_tl',\n",
        "    'num_il_tl',\n",
        "    'num_op_rev_tl',\n",
        "    'num_rev_accts',\n",
        "    'num_rev_tl_bal_gt_0',\n",
        "    'num_sats',\n",
        "    'num_tl_90g_dpd_24m',\n",
        "    'num_tl_op_past_12m',\n",
        "    'pct_tl_nvr_dlq',\n",
        "    'percent_bc_gt_75',\n",
        "    'tot_hi_cred_lim',\n",
        "    'total_bal_ex_mort',\n",
        "    'total_il_high_credit_limit',\n",
        "    'pub_rec',\n",
        "    'pub_rec_bankruptcies',\n",
        "    'tax_liens',\n",
        "    'collections_12_mths_ex_med',\n",
        "    'chargeoff_within_12_mths',\n",
        "    'new_total_rev_hi_lim',\n",
        "    'new_revol_bal',\n",
        "    'new_bc_open_to_buy',\n",
        "    'new_total_bc_limit',\n",
        "    'new_bc_util',\n",
        "    'new_revol_util',\n",
        "    'new_all_util',\n",
        "    'new_state',\n",
        "    'new_emp_length',\n",
        "    'new_purpose',\n",
        "    'ver_1',\n",
        "    'ver_2',\n",
        "    'home_1',\n",
        "    'home_2',\n",
        "    'home_3',\n",
        "    'home_4',\n",
        "    'home_5',\n",
        "    'loan_status_N'\n",
        "]"
      ],
      "metadata": {
        "id": "CoKnwLWKVo1b"
      },
      "execution_count": null,
      "outputs": []
    },
    {
      "cell_type": "code",
      "source": [
        "df = data[columns].copy()\n",
        "\n",
        "# 'category' 타입 열을 선택\n",
        "cat_cols = df.select_dtypes('category').columns.to_list()\n",
        "\n",
        "# 각 'category' 열을 정수형으로 변환\n",
        "for col in cat_cols:\n",
        "    df[col] = df[col].cat.codes"
      ],
      "metadata": {
        "id": "eWyy5EjcYFgp"
      },
      "execution_count": null,
      "outputs": []
    },
    {
      "cell_type": "code",
      "source": [
        "# 피쳐, 타겟 분리\n",
        "df_X = df.drop(columns='loan_status_N')\n",
        "df_y = df['loan_status_N']\n",
        "\n",
        "# 데이터 분할\n",
        "X_train, X_test, y_train, y_test = train_test_split(df_X, df_y, test_size=0.2, random_state=1234, stratify=df_y)\n",
        "\n",
        "# ((1719681, 60), (1719681,), (1375744, 60), (343937, 60), (1375744,), (343937,))\n",
        "df_X.shape, df_y.shape, X_train.shape, X_test.shape, y_train.shape, y_test.shape"
      ],
      "metadata": {
        "colab": {
          "base_uri": "https://localhost:8080/"
        },
        "id": "IWhMsOLwWAZb",
        "outputId": "b095dd44-73a8-4a16-b76a-810475e1a1da"
      },
      "execution_count": null,
      "outputs": [
        {
          "output_type": "execute_result",
          "data": {
            "text/plain": [
              "((1719681, 60), (1719681,), (1375744, 60), (343937, 60), (1375744,), (343937,))"
            ]
          },
          "metadata": {},
          "execution_count": 107
        }
      ]
    },
    {
      "cell_type": "markdown",
      "source": [
        "# 언더샘플링"
      ],
      "metadata": {
        "id": "sM1_BFRN1vLl"
      }
    },
    {
      "cell_type": "code",
      "source": [
        "smote_enn = SMOTEENN(random_state=42)\n",
        "X_train_smote_enn, y_train_smote_enn = smote_enn.fit_resample(X_train, y_train)"
      ],
      "metadata": {
        "id": "hVNDtuuF13S2"
      },
      "execution_count": null,
      "outputs": []
    },
    {
      "cell_type": "code",
      "execution_count": null,
      "metadata": {
        "id": "QX08yFn5zPTq"
      },
      "outputs": [],
      "source": [
        "cnn = CondensedNearestNeighbour(random_state=42)\n",
        "X_train_cnn, y_train_cnn = cnn.fit_resample(X_train, y_train)"
      ]
    },
    {
      "cell_type": "code",
      "source": [
        "enn = EditedNearestNeighbours()\n",
        "X_train_enn, y_train_enn = enn.fit_resample(X_train, y_train)"
      ],
      "metadata": {
        "id": "IBevDMzf1zCR"
      },
      "execution_count": null,
      "outputs": []
    },
    {
      "cell_type": "code",
      "source": [
        "ncr = NeighbourhoodCleaningRule()\n",
        "X_train_ncr, y_train_ncr = ncr.fit_resample(X_train, y_train)"
      ],
      "metadata": {
        "id": "D3HfJLkx10w0"
      },
      "execution_count": null,
      "outputs": []
    },
    {
      "cell_type": "markdown",
      "source": [
        "# 선형 판별 분석 (LDA)"
      ],
      "metadata": {
        "id": "HrfEetM8zmMQ"
      }
    },
    {
      "cell_type": "code",
      "source": [
        "# LDA 모델 생성 및 학습\n",
        "lda = LinearDiscriminantAnalysis()\n",
        "lda.fit(X_train, y_train)\n",
        "\n",
        "# 학습 데이터에 대한 예측\n",
        "lda_train_pred = lda.predict(X_train)\n",
        "\n",
        "# 테스트 데이터에 대한 예측\n",
        "lda_test_pred = lda.predict(X_test)"
      ],
      "metadata": {
        "id": "2-7ZoL8tzoR9"
      },
      "execution_count": null,
      "outputs": []
    },
    {
      "cell_type": "code",
      "source": [
        "# 학습 데이터 성능 평가\n",
        "lda_train_accuracy = accuracy_score(y_train, lda_train_pred)\n",
        "lda_train_f1_score = f1_score(y_train, lda_train_pred)\n",
        "lda_train_report = classification_report(y_train, lda_train_pred, target_names=['Class 0', 'Class 1'])\n",
        "\n",
        "print(f\"Train Accuracy: {lda_train_accuracy * 100:.2f}%\")\n",
        "print(f\"Train f1_score: {lda_train_f1_score * 100:.2f}%\")\n",
        "print(\"Train Classification Report:\")\n",
        "print(lda_train_report)\n",
        "\n",
        "# 테스트 데이터 성능 평가\n",
        "lda_test_accuracy = accuracy_score(y_test, lda_test_pred)\n",
        "lda_test_f1_score = f1_score(y_test, lda_test_pred)\n",
        "lda_test_report = classification_report(y_test, lda_test_pred, target_names=['Class 0', 'Class 1'])\n",
        "\n",
        "print(f\"Test Accuracy: {lda_test_accuracy * 100:.2f}%\")\n",
        "print(f\"Test f1_score: {lda_test_f1_score * 100:.2f}%\")\n",
        "print(\"Test Classification Report:\")\n",
        "print(lda_test_report)"
      ],
      "metadata": {
        "id": "Ws1P3okgzrta"
      },
      "execution_count": null,
      "outputs": []
    },
    {
      "cell_type": "code",
      "source": [
        "# 지수표현법에서 소수점표기법으로 변환\n",
        "pd.set_option('display.float_format', '{:.6f}'.format)\n",
        "\n",
        "# 판별 함수의 계수 확인\n",
        "lda_coef = lda.coef_[0]\n",
        "features = df_X.columns\n",
        "\n",
        "# 계수를 절대값 기준으로 정렬하고 랭크 부여\n",
        "lda_importance = pd.DataFrame({\n",
        "    'Feature': features,\n",
        "    'lda_coef': lda_coef,\n",
        "    'lda_abs_coef': abs(lda_coef)\n",
        "})\n",
        "\n",
        "lda_importance.sort_values(by='lda_abs_coef', ascending=False, inplace=True)\n",
        "lda_importance['lda_rank'] = lda_importance['lda_abs_coef'].rank(method='min', ascending=False).astype(int)\n",
        "\n",
        "result_lda = lda_importance[['Feature', 'lda_coef', 'lda_rank']].reset_index(drop = True)\n",
        "result_lda"
      ],
      "metadata": {
        "id": "SXtVhe3raEcM",
        "collapsed": true
      },
      "execution_count": null,
      "outputs": []
    },
    {
      "cell_type": "markdown",
      "source": [
        "# CatBoost"
      ],
      "metadata": {
        "id": "5D40zk2Cz4PE"
      }
    },
    {
      "cell_type": "code",
      "source": [
        "# cat모델 학습\n",
        "cat_model = CatBoostClassifier(random_state=42, iterations=500, learning_rate= 0.01)\n",
        "cat_model.fit(X_train, y_train)\n",
        "\n",
        "# 테스트 데이터에 대한 예측\n",
        "cat_test_pred = cat_model.predict(X_test)\n",
        "\n",
        "# 학습 데이터에 대한 예측\n",
        "cat_train_pred = cat_model.predict(X_train)"
      ],
      "metadata": {
        "id": "2InAbBMSz7Lv"
      },
      "execution_count": null,
      "outputs": []
    },
    {
      "cell_type": "code",
      "source": [
        "# 학습 데이터 성능 평가\n",
        "cat_train_accuracy = accuracy_score(y_train, cat_train_pred)\n",
        "cat_train_f1 = f1_score(y_train, cat_train_pred)\n",
        "cat_test_report = classification_report(y_train, cat_train_pred, target_names=['Class 0', 'Class 1'])\n",
        "\n",
        "print(f\"Train Accuracy: {cat_train_accuracy * 100:.2f}%\")\n",
        "print(f\"Train f1_score: {cat_train_f1 * 100:.2f}%\")\n",
        "print(\"Train Classification Report:\")\n",
        "print(cat_test_report)\n",
        "\n",
        "# 테스트 데이터 성능 평가\n",
        "cat_test_accuracy = accuracy_score(y_test, cat_test_pred)\n",
        "cat_test_f1 = f1_score(y_test, cat_test_pred)\n",
        "cat_test_report = classification_report(y_test, cat_test_pred, target_names=['Class 0', 'Class 1'])\n",
        "\n",
        "print(f\"Test Accuracy: {cat_test_accuracy * 100:.2f}%\")\n",
        "print(f\"Test f1_score: {cat_test_f1 * 100:.2f}%\")\n",
        "print(\"Test Classification Report:\")\n",
        "print(cat_test_report)"
      ],
      "metadata": {
        "id": "d0CE0XuBab5s"
      },
      "execution_count": null,
      "outputs": []
    },
    {
      "cell_type": "code",
      "source": [
        "# CatBoost 모델의 feature importance와 그에 따른 순위 부여\n",
        "cat_importance = pd.DataFrame({\n",
        "    'Feature': features,\n",
        "    'cat_importance': cat_model.get_feature_importance()\n",
        "})\n",
        "\n",
        "cat_importance.sort_values(by='cat_importance', ascending=False, inplace=True)\n",
        "cat_importance['cat_rank'] = cat_importance['cat_importance'].rank(method='min', ascending=False).astype(int)\n",
        "\n",
        "result_cat = cat_importance[['Feature', 'cat_importance', 'cat_rank']].reset_index(drop=True)\n",
        "result_cat"
      ],
      "metadata": {
        "id": "vwFeMbyM1d6j"
      },
      "execution_count": null,
      "outputs": []
    },
    {
      "cell_type": "markdown",
      "source": [
        "# Logistic Regression"
      ],
      "metadata": {
        "id": "qHnysHlp0PM_"
      }
    },
    {
      "cell_type": "code",
      "source": [
        "# 로지스틱회귀 모델 학습\n",
        "lr_model = LogisticRegression(max_iter=100, random_state=42)\n",
        "lr_model.fit(X_train, y_train)\n",
        "\n",
        "# 학습 데이터에 대한 예측\n",
        "lr_train_pred = lr_model.predict(X_train)\n",
        "\n",
        "# 테스트 데이터에 대한 예측\n",
        "lr_test_pred = lr_model.predict(X_test)"
      ],
      "metadata": {
        "id": "fwNCfEFB0UDw"
      },
      "execution_count": null,
      "outputs": []
    },
    {
      "cell_type": "code",
      "source": [
        "# 학습 데이터 성능 평가\n",
        "lr_train_accuracy = accuracy_score(y_train, lr_train_pred)\n",
        "lr_train_f1 = f1_score(y_train, lr_train_pred)\n",
        "lr_test_report = classification_report(y_train, lr_train_pred, target_names=['Class 0', 'Class 1'])\n",
        "\n",
        "print(f\"Train Accuracy: {lr_train_accuracy * 100:.2f}%\")\n",
        "print(f\"Train f1_score: {lr_train_f1 * 100:.2f}%\")\n",
        "print(\"Train Classification Report:\")\n",
        "print(lr_test_report)\n",
        "\n",
        "# 테스트 데이터 성능 평가\n",
        "lr_test_accuracy = accuracy_score(y_test, lr_test_pred)\n",
        "lr_test_f1 = f1_score(y_test, lr_test_pred)\n",
        "lr_test_report = classification_report(y_test, lr_test_pred, target_names=['Class 0', 'Class 1'])\n",
        "\n",
        "print(f\"Test Accuracy: {lr_test_accuracy * 100:.2f}%\")\n",
        "print(f\"Test f1_score: {lr_test_f1 * 100:.2f}%\")\n",
        "print(\"Test Classification Report:\")\n",
        "print(lr_test_report)"
      ],
      "metadata": {
        "id": "8BOpnKMme7hh"
      },
      "execution_count": null,
      "outputs": []
    },
    {
      "cell_type": "code",
      "source": [
        "# 로지스틱 회귀 모델의 계수 확인\n",
        "lr_coef = lr_model.coef_[0]\n",
        "\n",
        "# 계수를 절대값 기준으로 정렬하고 랭크 부여\n",
        "lr_importance = pd.DataFrame({\n",
        "    'Feature': features,\n",
        "    'lr_coef': lr_coef,\n",
        "    'lr_abs_coef': abs(lr_coef)\n",
        "})\n",
        "\n",
        "lr_importance.sort_values(by='lr_abs_coef', ascending=False, inplace=True)\n",
        "lr_importance['lr_rank'] = lr_importance['lr_abs_coef'].rank(method='min', ascending=False).astype(int)\n",
        "\n",
        "result_lr = lr_importance[['Feature', 'lr_coef', 'lr_rank']].reset_index(drop=True)\n",
        "result_lr"
      ],
      "metadata": {
        "id": "9U2ff1NLfO0R"
      },
      "execution_count": null,
      "outputs": []
    },
    {
      "cell_type": "markdown",
      "source": [
        "##LGBM"
      ],
      "metadata": {
        "id": "sB2f26b52fMy"
      }
    },
    {
      "cell_type": "code",
      "source": [
        "# lgb 모델 학습\n",
        "lgb_model = LGBMClassifier(n_jobs=-1, n_estimators=100, learning_rate = 0.01)\n",
        "lgb_model.fit(X_train, y_train)\n",
        "\n",
        "# 학습 데이터에 대한 예측\n",
        "lgb_train_pred = lgb_model.predict(X_train)\n",
        "\n",
        "# 테스트 데이터에 대한 예측\n",
        "lgb_test_pred = lgb_model.predict(X_test)"
      ],
      "metadata": {
        "id": "CfWGWbVN2hZf"
      },
      "execution_count": null,
      "outputs": []
    },
    {
      "cell_type": "code",
      "source": [
        "# 학습 데이터 성능 평가\n",
        "lgb_train_accuracy = accuracy_score(y_train, lgb_train_pred)\n",
        "lgb_train_f1 = f1_score(y_train, lgb_train_pred)\n",
        "lgb_test_report = classification_report(y_train, lgb_train_pred, target_names=['Class 0', 'Class 1'])\n",
        "\n",
        "print(f\"Train Accuracy: {lgb_train_accuracy * 100:.2f}%\")\n",
        "print(f\"Train f1_score: {lgb_train_f1 * 100:.2f}%\")\n",
        "print(\"Train Classification Report:\")\n",
        "print(lgb_test_report)\n",
        "\n",
        "# 테스트 데이터 성능 평가\n",
        "lgb_test_accuracy = accuracy_score(y_test, lgb_test_pred)\n",
        "lgb_test_f1 = f1_score(y_test, lgb_test_pred)\n",
        "lgb_test_report = classification_report(y_test, lgb_test_pred, target_names=['Class 0', 'Class 1'])\n",
        "\n",
        "print(f\"Test Accuracy: {lgb_test_accuracy * 100:.2f}%\")\n",
        "print(f\"Test f1_score: {lgb_test_f1 * 100:.2f}%\")\n",
        "print(\"Test Classification Report:\")\n",
        "print(lgb_test_report)"
      ],
      "metadata": {
        "id": "lOiEE7Jq2yBu"
      },
      "execution_count": null,
      "outputs": []
    },
    {
      "cell_type": "code",
      "source": [
        "# lgbm의 feature importance와 그에 따른 순위 부여\n",
        "lgb_importance = pd.DataFrame({\n",
        "    'Feature': features,\n",
        "    'lgb_importance': lgb_model.feature_importances_\n",
        "})\n",
        "\n",
        "# 같은 점수에 같은 등급 부여 후 정수형으로 변환\n",
        "lgb_importance.sort_values(by='lgb_importance', ascending=False, inplace=True)\n",
        "lgb_importance['lgb_rank'] = lgb_importance['lgb_importance'].rank(method='min', ascending=False).astype(int)\n",
        "\n",
        "result_lgb = lgb_importance[['Feature', 'lgb_importance', 'lgb_rank']].reset_index(drop = True)\n",
        "result_lgb"
      ],
      "metadata": {
        "id": "58SXTXEQhNVa"
      },
      "execution_count": null,
      "outputs": []
    },
    {
      "cell_type": "markdown",
      "source": [
        "# XGBoost"
      ],
      "metadata": {
        "id": "TlrgrCPG3t1J"
      }
    },
    {
      "cell_type": "code",
      "source": [
        "# xgb 모델 학습\n",
        "xgb_model = XGBClassifier(n_jobs = -1, random_state = 1234)\n",
        "xgb_model.fit(X_train, y_train)\n",
        "\n",
        "# 학습 데이터에 대한 예측\n",
        "xgb_train_pred = xgb_model.predict(X_train)\n",
        "\n",
        "# 테스트 데이터에 대한 예측\n",
        "xgb_test_pred = xgb_model.predict(X_test)"
      ],
      "metadata": {
        "id": "GY_pxnbIhsQ_"
      },
      "execution_count": null,
      "outputs": []
    },
    {
      "cell_type": "code",
      "source": [
        "# 학습 데이터 성능 평가\n",
        "xgb_train_accuracy = accuracy_score(y_train, xgb_train_pred)\n",
        "xgb_train_f1 = f1_score(y_train, xgb_train_pred)\n",
        "xgb_train_report = classification_report(y_train, xgb_train_pred, target_names=['Class 0', 'Class 1'])\n",
        "\n",
        "print(f\"Train Accuracy: {xgb_train_accuracy * 100:.2f}%\")\n",
        "print(f\"Train f1_score: {xgb_train_f1 * 100:.2f}%\")\n",
        "print(\"Train Classification Report:\")\n",
        "print(xgb_train_report)\n",
        "\n",
        "# 테스트 데이터 성능 평가\n",
        "xgb_test_accuracy = accuracy_score(y_test, xgb_test_pred)\n",
        "xgb_test_f1 = f1_score(y_test, xgb_test_pred)\n",
        "xgb_test_report = classification_report(y_test, xgb_test_pred, target_names=['Class 0', 'Class 1'])\n",
        "\n",
        "print(f\"Test Accuracy: {xgb_test_accuracy * 100:.2f}%\")\n",
        "print(f\"Test f1_score: {xgb_test_f1 * 100:.2f}%\")\n",
        "print(\"Test Classification Report:\")\n",
        "print(xgb_test_report)"
      ],
      "metadata": {
        "id": "QYwMKzLqh4re"
      },
      "execution_count": null,
      "outputs": []
    },
    {
      "cell_type": "code",
      "source": [
        "# xgbm의 feature importance와 그에 따른 순위 부여\n",
        "xgb_importance = pd.DataFrame({\n",
        "    'Feature': features,\n",
        "    'xgb_importance': xgb_model.feature_importances_\n",
        "})\n",
        "\n",
        "# 같은 점수에 같은 등급 부여 후 정수형으로 변환\n",
        "xgb_importance.sort_values(by='xgb_importance', ascending=False, inplace=True)\n",
        "xgb_importance['xgb_rank'] = xgb_importance['xgb_importance'].rank(method='min', ascending=False).astype(int)\n",
        "\n",
        "result_xgb = xgb_importance[['Feature', 'xgb_importance', 'xgb_rank']].reset_index(drop = True)\n",
        "result_xgb"
      ],
      "metadata": {
        "id": "jZIz_2EwiYhZ"
      },
      "execution_count": null,
      "outputs": []
    },
    {
      "cell_type": "markdown",
      "source": [
        "# Random Forest"
      ],
      "metadata": {
        "id": "YmrtAQFXnOBf"
      }
    },
    {
      "cell_type": "code",
      "source": [
        "# RandomForest 모델 초기화 및 학습\n",
        "rf_model = RandomForestClassifier(n_jobs=-1, random_state=1234)\n",
        "rf_model.fit(X_train, y_train)\n",
        "\n",
        "# 학습 데이터에 대한 예측\n",
        "rf_train_pred = rf_model.predict(X_train)\n",
        "\n",
        "# 테스트 데이터에 대한 예측\n",
        "rf_test_pred = rf_model.predict(X_test)"
      ],
      "metadata": {
        "id": "C30iBWuNi93u"
      },
      "execution_count": null,
      "outputs": []
    },
    {
      "cell_type": "code",
      "source": [
        "# 학습 데이터 성능 평가\n",
        "rf_train_accuracy = accuracy_score(y_train, rf_train_pred)\n",
        "rf_train_f1 = f1_score(y_train, rf_train_pred, average='binary')\n",
        "rf_train_report = classification_report(y_train, rf_train_pred, target_names=['Class 0', 'Class 1'])\n",
        "\n",
        "print(f\"Train Accuracy: {rf_train_accuracy * 100:.2f}%\")\n",
        "print(f\"Train F1 Score: {rf_train_f1 * 100:.2f}%\")\n",
        "print(\"Train Classification Report:\")\n",
        "print(rf_train_report)\n",
        "\n",
        "# 테스트 데이터 성능 평가\n",
        "rf_test_accuracy = accuracy_score(y_test, rf_test_pred)\n",
        "rf_test_f1 = f1_score(y_test, rf_test_pred, average='binary')\n",
        "rf_test_report = classification_report(y_test, rf_test_pred, target_names=['Class 0', 'Class 1'])\n",
        "\n",
        "print(f\"Test Accuracy: {rf_test_accuracy * 100:.2f}%\")\n",
        "print(f\"Test F1 Score: {rf_test_f1 * 100:.2f}%\")\n",
        "print(\"Test Classification Report:\")\n",
        "print(rf_test_report)"
      ],
      "metadata": {
        "id": "HRW15avsniH9"
      },
      "execution_count": null,
      "outputs": []
    },
    {
      "cell_type": "code",
      "source": [
        "# RandomForest의 feature importance와 그에 따른 순위 부여\n",
        "rf_importance = pd.DataFrame({\n",
        "    'Feature': features,\n",
        "    'rf_importance': rf_model.feature_importances_\n",
        "})\n",
        "\n",
        "# 같은 점수에 같은 등급 부여 후 정수형으로 변환\n",
        "rf_importance.sort_values(by='rf_importance', ascending=False, inplace=True)\n",
        "rf_importance['rf_rank'] = rf_importance['rf_importance'].rank(method='min', ascending=False).astype(int)\n",
        "\n",
        "result_rf = rf_importance[['Feature', 'rf_importance', 'rf_rank']].reset_index(drop=True)\n",
        "result_rf"
      ],
      "metadata": {
        "id": "tN4-dDgWnkM2"
      },
      "execution_count": null,
      "outputs": []
    },
    {
      "cell_type": "markdown",
      "source": [
        "# 피쳐 중요도 데이터프레임 병합"
      ],
      "metadata": {
        "id": "WJ2mqqK1qyQe"
      }
    },
    {
      "cell_type": "code",
      "source": [
        "models = [result_cat, result_lr, result_lda, result_xgb, result_lgb, result_rf]\n",
        "\n",
        "# 첫 번째 데이터프레임을 기준으로 초기화\n",
        "feature_importance_df = models[0]\n",
        "\n",
        "# 순차적으로 나머지 데이터프레임을 병합\n",
        "for df in models[1:]:\n",
        "    feature_importance_df = pd.merge(feature_importance_df, df, on='Feature', how='inner')"
      ],
      "metadata": {
        "id": "gdWxpV-VozpI"
      },
      "execution_count": null,
      "outputs": []
    },
    {
      "cell_type": "code",
      "source": [
        "feature_importance_df"
      ],
      "metadata": {
        "id": "jbdLQ0CWpeKZ"
      },
      "execution_count": null,
      "outputs": []
    },
    {
      "cell_type": "code",
      "source": [
        "# rank를 포함하는 변수만 추출\n",
        "rank_columns = ['Feature'] + [col for col in feature_importance_df.columns if 'rank' in col]\n",
        "\n",
        "feature_rank_df = feature_importance_df[rank_columns]\n",
        "feature_rank_df"
      ],
      "metadata": {
        "id": "-oX5HKWdqJlM"
      },
      "execution_count": null,
      "outputs": []
    },
    {
      "cell_type": "code",
      "source": [
        "# 피쳐중요도를 포함하는 변수만 추출\n",
        "importance_columns = ['Feature'] + [col for col in feature_importance_df.columns if 'importance' in col or 'coef' in col]\n",
        "\n",
        "importance_df = feature_importance_df[importance_columns]\n",
        "importance_df"
      ],
      "metadata": {
        "id": "m4i92z_auiyD"
      },
      "execution_count": null,
      "outputs": []
    }
  ]
}